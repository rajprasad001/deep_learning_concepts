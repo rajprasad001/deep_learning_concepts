{
  "nbformat": 4,
  "nbformat_minor": 0,
  "metadata": {
    "colab": {
      "name": "Regularization.ipynb",
      "provenance": [],
      "authorship_tag": "ABX9TyPmIFJD8EUhCHNkT8gNiDEH",
      "include_colab_link": true
    },
    "kernelspec": {
      "name": "python3",
      "display_name": "Python 3"
    }
  },
  "cells": [
    {
      "cell_type": "markdown",
      "metadata": {
        "id": "view-in-github",
        "colab_type": "text"
      },
      "source": [
        "<a href=\"https://colab.research.google.com/github/rajprasad001/deep_learning_concepts/blob/master/Regularization.ipynb\" target=\"_parent\"><img src=\"https://colab.research.google.com/assets/colab-badge.svg\" alt=\"Open In Colab\"/></a>"
      ]
    },
    {
      "cell_type": "markdown",
      "metadata": {
        "id": "dmCe5XMAmaXZ",
        "colab_type": "text"
      },
      "source": [
        "TASK 2\n",
        "\n",
        "Pawan Kumar : 224230\n",
        "\n",
        "Raj Rajeshwari Prasad : 224237\n",
        "\n",
        "Sesha Sai Bhavaraju Kiran : 224160"
      ]
    },
    {
      "cell_type": "markdown",
      "metadata": {
        "id": "BYAusBKBpGq-",
        "colab_type": "text"
      },
      "source": [
        "# Regularization"
      ]
    },
    {
      "cell_type": "markdown",
      "metadata": {
        "id": "8tFSnEkUpXmn",
        "colab_type": "text"
      },
      "source": [
        "* Motivation: Investigate how different Regularization techniques affect the training behavior.\n",
        "\n",
        "* Dataset : Cifar10\n",
        "\n",
        "* Architecture : Best model from Task1's architecture\n",
        "\n",
        "* Regularization techniques:\n",
        " * L1, L2 regularizer\n",
        " * Dropouts\n",
        " * Adding noise\n",
        "\n",
        "* Comparision Criteria: Training Curves\n",
        " * Steps still convergence\n",
        " * Training accuracy untill convergence\n",
        " * Stability of training"
      ]
    },
    {
      "cell_type": "markdown",
      "metadata": {
        "id": "6J3L5fUYpyu7",
        "colab_type": "text"
      },
      "source": [
        "## Importing Libraries"
      ]
    },
    {
      "cell_type": "code",
      "metadata": {
        "id": "CT7FqDLEpu7M",
        "colab_type": "code",
        "colab": {}
      },
      "source": [
        "import numpy as np\n",
        "import tensorflow as tf\n",
        "import matplotlib.pyplot as plt\n",
        "from keras.datasets import cifar10\n",
        "from sklearn.model_selection import train_test_split\n",
        "#from tensorflow.keras import datasets#, layers, models"
      ],
      "execution_count": 44,
      "outputs": []
    },
    {
      "cell_type": "markdown",
      "metadata": {
        "id": "OLkrxRywp2eU",
        "colab_type": "text"
      },
      "source": [
        "## Loading and Splitting Data"
      ]
    },
    {
      "cell_type": "code",
      "metadata": {
        "id": "8-RnEhH3ozFN",
        "colab_type": "code",
        "colab": {
          "base_uri": "https://localhost:8080/",
          "height": 68
        },
        "outputId": "f39ef5f7-e3f4-432b-a1f1-9360d8fb2f55"
      },
      "source": [
        "#Splitting the data into Train and Test. The Test Data should be completely unseen.\n",
        "#By default 10000 instances are used as test data in Cifar10\n",
        "(cifar_train_x_temp, cifar_train_y_temp), (cifar_test_x , cifar_test_y) =cifar10.load_data() \n",
        "\n",
        "#Further, for hyperparameter tuning, 20% of the train data is futher split into train and validation data\n",
        "cifar_train_x, cifar_val_x, cifar_train_y, cifar_val_y = train_test_split(cifar_train_x_temp, cifar_train_y_temp, test_size=0.20, random_state=42)\n",
        "\n",
        "#Standardizing the dataset\n",
        "cifar_train_x, cifar_val_x, cifar_test_x = cifar_train_x/255.0, cifar_val_x/255.0, cifar_test_x/255.0\n",
        "\n",
        "print('cifar10 train data      : {}'.format(cifar_train_x.shape))\n",
        "print('cifar10 validation data : {}'.format(cifar_val_x.shape))\n",
        "print('cifar10 test data       : {}'.format(cifar_test_x.shape))"
      ],
      "execution_count": 45,
      "outputs": [
        {
          "output_type": "stream",
          "text": [
            "cifar10 train data      : (40000, 32, 32, 3)\n",
            "cifar10 validation data : (10000, 32, 32, 3)\n",
            "cifar10 test data       : (10000, 32, 32, 3)\n"
          ],
          "name": "stdout"
        }
      ]
    },
    {
      "cell_type": "markdown",
      "metadata": {
        "id": "x0bN9nx4qCLe",
        "colab_type": "text"
      },
      "source": [
        "## Building Model without regularizer"
      ]
    },
    {
      "cell_type": "code",
      "metadata": {
        "id": "9LE2IUNu1RiR",
        "colab_type": "code",
        "colab": {}
      },
      "source": [
        "def cnn_base_model(opt,train_x,train_y,epo,val_x,val_y,test_x,test_y):\n",
        "  inputs = tf.keras.layers.Input((32,32,3))\n",
        "  cnn_mod = tf.keras.layers.Conv2D(8,3, padding= 'SAME', activation='relu')(inputs)\n",
        "  cnn_mod = tf.keras.layers.MaxPool2D(2)(cnn_mod)\n",
        "  cnn_mod = tf.keras.layers.Conv2D(16,3, padding= 'SAME', activation='relu')(cnn_mod)\n",
        "  cnn_mod = tf.keras.layers.MaxPool2D(2)(cnn_mod)\n",
        "  cnn_mod = tf.keras.layers.Conv2D(32,3, padding= 'SAME', activation='relu')(cnn_mod)\n",
        "  cnn_mod = tf.keras.layers.MaxPool2D(2)(cnn_mod)\n",
        "  cnn_mod = tf.keras.layers.Conv2D(128,3, padding= 'SAME', activation='relu')(cnn_mod)\n",
        "  cnn_mod = tf.keras.layers.Flatten()(cnn_mod)\n",
        "  cnn_mod = tf.keras.layers.Dense(10, activation='softmax')(cnn_mod)\n",
        "\n",
        "  model = tf.keras.Model(inputs,cnn_mod)\n",
        "\n",
        "  model.compile(optimizer=opt,loss=tf.keras.losses.SparseCategoricalCrossentropy(from_logits=True),metrics=['accuracy'])\n",
        "  history = model.fit(train_x, train_y, epochs=epo, validation_data=(val_x, val_y))\n",
        "\n",
        "  plt.plot(history.history['accuracy'], label='accuracy')\n",
        "  plt.plot(history.history['val_accuracy'], label = 'val_accuracy')\n",
        "  plt.xlabel('Epoch')\n",
        "  plt.ylabel('Accuracy')\n",
        "  plt.ylim([0, 1])\n",
        "  plt.legend(loc='lower right')\n",
        "\n",
        "  test_loss, test_acc = model.evaluate(test_x,  test_y, verbose=2)\n",
        "  print('Test Data Loss : {}, Test Data Accuracy : {}'.format(test_loss,test_acc))"
      ],
      "execution_count": 72,
      "outputs": []
    },
    {
      "cell_type": "code",
      "metadata": {
        "id": "xQWqmZXnu_kg",
        "colab_type": "code",
        "colab": {
          "base_uri": "https://localhost:8080/",
          "height": 1000
        },
        "outputId": "19fac2c7-6eb1-438d-b7bb-b7f06034d40e"
      },
      "source": [
        "model2 = cnn_base_model('adam',cifar_train_x,cifar_train_y,30,cifar_val_x,cifar_val_y,cifar_test_x,cifar_test_y)"
      ],
      "execution_count": 73,
      "outputs": [
        {
          "output_type": "stream",
          "text": [
            "Epoch 1/30\n",
            "1250/1250 [==============================] - 40s 32ms/step - loss: 2.1163 - accuracy: 0.3347 - val_loss: 2.0795 - val_accuracy: 0.3739\n",
            "Epoch 2/30\n",
            "1250/1250 [==============================] - 40s 32ms/step - loss: 2.0034 - accuracy: 0.4531 - val_loss: 1.9642 - val_accuracy: 0.4934\n",
            "Epoch 3/30\n",
            "1250/1250 [==============================] - 40s 32ms/step - loss: 1.9541 - accuracy: 0.5041 - val_loss: 1.9725 - val_accuracy: 0.4877\n",
            "Epoch 4/30\n",
            "1250/1250 [==============================] - 40s 32ms/step - loss: 1.9156 - accuracy: 0.5442 - val_loss: 1.9143 - val_accuracy: 0.5437\n",
            "Epoch 5/30\n",
            "1250/1250 [==============================] - 40s 32ms/step - loss: 1.8892 - accuracy: 0.5701 - val_loss: 1.8986 - val_accuracy: 0.5586\n",
            "Epoch 6/30\n",
            "1250/1250 [==============================] - 40s 32ms/step - loss: 1.8634 - accuracy: 0.5957 - val_loss: 1.8857 - val_accuracy: 0.5743\n",
            "Epoch 7/30\n",
            "1250/1250 [==============================] - 40s 32ms/step - loss: 1.8438 - accuracy: 0.6174 - val_loss: 1.8639 - val_accuracy: 0.5945\n",
            "Epoch 8/30\n",
            "1250/1250 [==============================] - 40s 32ms/step - loss: 1.8296 - accuracy: 0.6320 - val_loss: 1.8497 - val_accuracy: 0.6088\n",
            "Epoch 9/30\n",
            "1250/1250 [==============================] - 40s 32ms/step - loss: 1.8128 - accuracy: 0.6479 - val_loss: 1.8396 - val_accuracy: 0.6186\n",
            "Epoch 10/30\n",
            "1250/1250 [==============================] - 42s 34ms/step - loss: 1.7986 - accuracy: 0.6631 - val_loss: 1.8275 - val_accuracy: 0.6300\n",
            "Epoch 11/30\n",
            "1250/1250 [==============================] - 40s 32ms/step - loss: 1.7877 - accuracy: 0.6734 - val_loss: 1.8362 - val_accuracy: 0.6226\n",
            "Epoch 12/30\n",
            "1250/1250 [==============================] - 40s 32ms/step - loss: 1.7760 - accuracy: 0.6841 - val_loss: 1.8186 - val_accuracy: 0.6412\n",
            "Epoch 13/30\n",
            "1250/1250 [==============================] - 40s 32ms/step - loss: 1.7667 - accuracy: 0.6940 - val_loss: 1.8114 - val_accuracy: 0.6477\n",
            "Epoch 14/30\n",
            "1250/1250 [==============================] - 40s 32ms/step - loss: 1.7525 - accuracy: 0.7095 - val_loss: 1.8149 - val_accuracy: 0.6450\n",
            "Epoch 15/30\n",
            "1250/1250 [==============================] - 39s 31ms/step - loss: 1.7489 - accuracy: 0.7120 - val_loss: 1.8003 - val_accuracy: 0.6604\n",
            "Epoch 16/30\n",
            "1250/1250 [==============================] - 40s 32ms/step - loss: 1.7424 - accuracy: 0.7185 - val_loss: 1.8301 - val_accuracy: 0.6286\n",
            "Epoch 17/30\n",
            "1250/1250 [==============================] - 40s 32ms/step - loss: 1.7339 - accuracy: 0.7279 - val_loss: 1.8025 - val_accuracy: 0.6569\n",
            "Epoch 18/30\n",
            "1250/1250 [==============================] - 40s 32ms/step - loss: 1.7298 - accuracy: 0.7313 - val_loss: 1.8097 - val_accuracy: 0.6486\n",
            "Epoch 19/30\n",
            "1250/1250 [==============================] - 40s 32ms/step - loss: 1.7199 - accuracy: 0.7417 - val_loss: 1.8140 - val_accuracy: 0.6443\n",
            "Epoch 20/30\n",
            "1250/1250 [==============================] - 40s 32ms/step - loss: 1.7124 - accuracy: 0.7487 - val_loss: 1.7869 - val_accuracy: 0.6708\n",
            "Epoch 21/30\n",
            "1250/1250 [==============================] - 40s 32ms/step - loss: 1.7138 - accuracy: 0.7471 - val_loss: 1.8008 - val_accuracy: 0.6589\n",
            "Epoch 22/30\n",
            "1250/1250 [==============================] - 40s 32ms/step - loss: 1.7110 - accuracy: 0.7498 - val_loss: 1.8204 - val_accuracy: 0.6397\n",
            "Epoch 23/30\n",
            "1250/1250 [==============================] - 40s 32ms/step - loss: 1.7052 - accuracy: 0.7556 - val_loss: 1.7912 - val_accuracy: 0.6688\n",
            "Epoch 24/30\n",
            "1250/1250 [==============================] - 40s 32ms/step - loss: 1.7046 - accuracy: 0.7562 - val_loss: 1.7981 - val_accuracy: 0.6618\n",
            "Epoch 25/30\n",
            "1250/1250 [==============================] - 43s 34ms/step - loss: 1.6985 - accuracy: 0.7614 - val_loss: 1.8004 - val_accuracy: 0.6590\n",
            "Epoch 26/30\n",
            "1250/1250 [==============================] - 40s 32ms/step - loss: 1.6960 - accuracy: 0.7646 - val_loss: 1.7965 - val_accuracy: 0.6627\n",
            "Epoch 27/30\n",
            "1250/1250 [==============================] - 40s 32ms/step - loss: 1.6936 - accuracy: 0.7667 - val_loss: 1.8073 - val_accuracy: 0.6515\n",
            "Epoch 28/30\n",
            "1250/1250 [==============================] - 40s 32ms/step - loss: 1.6926 - accuracy: 0.7675 - val_loss: 1.7972 - val_accuracy: 0.6628\n",
            "Epoch 29/30\n",
            "1250/1250 [==============================] - 40s 32ms/step - loss: 1.6905 - accuracy: 0.7705 - val_loss: 1.8051 - val_accuracy: 0.6537\n",
            "Epoch 30/30\n",
            "1250/1250 [==============================] - 40s 32ms/step - loss: 1.6896 - accuracy: 0.7709 - val_loss: 1.7976 - val_accuracy: 0.6606\n",
            "313/313 - 3s - loss: 1.8026 - accuracy: 0.6559\n",
            "Test Data Loss : 1.8026282787322998, Test Data Accuracy : 0.6559000015258789\n"
          ],
          "name": "stdout"
        },
        {
          "output_type": "display_data",
          "data": {
            "image/png": "[encoded data removed]",
            "text/plain": [
              "<Figure size 432x288 with 1 Axes>"
            ]
          },
          "metadata": {
            "tags": [],
            "needs_background": "light"
          }
        }
      ]
    },
    {
      "cell_type": "markdown",
      "metadata": {
        "id": "MmxNm_ePKnFB",
        "colab_type": "text"
      },
      "source": [
        "## L2 Regularizer"
      ]
    },
    {
      "cell_type": "code",
      "metadata": {
        "id": "eztkcKKi9EPj",
        "colab_type": "code",
        "colab": {}
      },
      "source": [
        "def cnn_l2_model(opt,train_x,train_y,epo,val_x,val_y,test_x,test_y):\n",
        "  inputs = tf.keras.layers.Input((32,32,3))\n",
        "  cnn_mod = tf.keras.layers.Conv2D(8,3, padding= 'SAME', activation='relu')(inputs)\n",
        "  cnn_mod = tf.keras.layers.MaxPool2D(2)(cnn_mod)\n",
        "  cnn_mod = tf.keras.layers.Conv2D(16,3, padding= 'SAME', activation='relu')(cnn_mod)\n",
        "  cnn_mod = tf.keras.layers.MaxPool2D(2)(cnn_mod)\n",
        "  cnn_mod = tf.keras.layers.Conv2D(32,3, padding= 'SAME', activation='relu')(cnn_mod)\n",
        "  cnn_mod = tf.keras.layers.MaxPool2D(2)(cnn_mod)\n",
        "  cnn_mod = tf.keras.layers.Conv2D(128,3, padding= 'SAME', activation='relu')(cnn_mod)\n",
        "  cnn_mod = tf.keras.layers.Flatten()(cnn_mod)\n",
        "  cnn_mod = tf.keras.layers.Dense(10, activation='softmax',kernel_regularizer='l2')(cnn_mod)\n",
        "\n",
        "  model = tf.keras.Model(inputs,cnn_mod)\n",
        "\n",
        "  model.compile(optimizer=opt,loss=tf.keras.losses.SparseCategoricalCrossentropy(from_logits=True),metrics=['accuracy'])\n",
        "  history = model.fit(train_x, train_y, epochs=epo, validation_data=(val_x, val_y))\n",
        "\n",
        "  plt.plot(history.history['accuracy'], label='accuracy')\n",
        "  plt.plot(history.history['val_accuracy'], label = 'val_accuracy')\n",
        "  plt.xlabel('Epoch')\n",
        "  plt.ylabel('Accuracy')\n",
        "  #plt.ylim([0.5, 1])\n",
        "  plt.legend(loc='lower right')\n",
        "\n",
        "  test_loss, test_acc = model.evaluate(test_x,  test_y, verbose=2)\n",
        "  print('Test Data Loss : {}, Test Data Accuracy : {}'.format(test_loss,test_acc))"
      ],
      "execution_count": 64,
      "outputs": []
    },
    {
      "cell_type": "code",
      "metadata": {
        "id": "xpSwyf8Z92f7",
        "colab_type": "code",
        "colab": {
          "base_uri": "https://localhost:8080/",
          "height": 1000
        },
        "outputId": "7c3da26d-6ca6-4641-b860-2bfa1e51dcef"
      },
      "source": [
        "model3 = cnn_l2_model('adam',cifar_train_x,cifar_train_y,30,cifar_val_x,cifar_val_y,cifar_test_x,cifar_test_y)"
      ],
      "execution_count": 65,
      "outputs": [
        {
          "output_type": "stream",
          "text": [
            "Epoch 1/30\n",
            "1250/1250 [==============================] - 40s 32ms/step - loss: 2.1800 - accuracy: 0.2890 - val_loss: 2.1713 - val_accuracy: 0.3028\n",
            "Epoch 2/30\n",
            "1250/1250 [==============================] - 39s 32ms/step - loss: 2.0845 - accuracy: 0.3967 - val_loss: 2.0627 - val_accuracy: 0.4217\n",
            "Epoch 3/30\n",
            "1250/1250 [==============================] - 40s 32ms/step - loss: 2.0461 - accuracy: 0.4388 - val_loss: 2.0196 - val_accuracy: 0.4629\n",
            "Epoch 4/30\n",
            "1250/1250 [==============================] - 40s 32ms/step - loss: 2.0160 - accuracy: 0.4690 - val_loss: 2.0065 - val_accuracy: 0.4847\n",
            "Epoch 5/30\n",
            "1250/1250 [==============================] - 40s 32ms/step - loss: 1.9974 - accuracy: 0.4916 - val_loss: 1.9745 - val_accuracy: 0.5176\n",
            "Epoch 6/30\n",
            "1250/1250 [==============================] - 39s 31ms/step - loss: 1.9772 - accuracy: 0.5142 - val_loss: 1.9594 - val_accuracy: 0.5337\n",
            "Epoch 7/30\n",
            "1250/1250 [==============================] - 40s 32ms/step - loss: 1.9602 - accuracy: 0.5324 - val_loss: 1.9544 - val_accuracy: 0.5375\n",
            "Epoch 8/30\n",
            "1250/1250 [==============================] - 40s 32ms/step - loss: 1.9429 - accuracy: 0.5510 - val_loss: 1.9356 - val_accuracy: 0.5602\n",
            "Epoch 9/30\n",
            "1250/1250 [==============================] - 42s 33ms/step - loss: 1.9325 - accuracy: 0.5609 - val_loss: 1.9293 - val_accuracy: 0.5647\n",
            "Epoch 10/30\n",
            "1250/1250 [==============================] - 40s 32ms/step - loss: 1.9218 - accuracy: 0.5712 - val_loss: 1.9180 - val_accuracy: 0.5757\n",
            "Epoch 11/30\n",
            "1250/1250 [==============================] - 40s 32ms/step - loss: 1.9135 - accuracy: 0.5814 - val_loss: 1.9130 - val_accuracy: 0.5772\n",
            "Epoch 12/30\n",
            "1250/1250 [==============================] - 40s 32ms/step - loss: 1.9029 - accuracy: 0.5921 - val_loss: 1.9158 - val_accuracy: 0.5763\n",
            "Epoch 13/30\n",
            "1250/1250 [==============================] - 40s 32ms/step - loss: 1.8955 - accuracy: 0.5993 - val_loss: 1.8897 - val_accuracy: 0.6049\n",
            "Epoch 14/30\n",
            "1250/1250 [==============================] - 40s 32ms/step - loss: 1.8846 - accuracy: 0.6097 - val_loss: 1.8911 - val_accuracy: 0.6014\n",
            "Epoch 15/30\n",
            "1250/1250 [==============================] - 40s 32ms/step - loss: 1.8771 - accuracy: 0.6170 - val_loss: 1.9050 - val_accuracy: 0.5864\n",
            "Epoch 16/30\n",
            "1250/1250 [==============================] - 40s 32ms/step - loss: 1.8691 - accuracy: 0.6259 - val_loss: 1.8743 - val_accuracy: 0.6205\n",
            "Epoch 17/30\n",
            "1250/1250 [==============================] - 40s 32ms/step - loss: 1.8625 - accuracy: 0.6337 - val_loss: 1.8831 - val_accuracy: 0.6104\n",
            "Epoch 18/30\n",
            "1250/1250 [==============================] - 40s 32ms/step - loss: 1.8576 - accuracy: 0.6378 - val_loss: 1.8770 - val_accuracy: 0.6185\n",
            "Epoch 19/30\n",
            "1250/1250 [==============================] - 40s 32ms/step - loss: 1.8507 - accuracy: 0.6454 - val_loss: 1.8777 - val_accuracy: 0.6167\n",
            "Epoch 20/30\n",
            "1250/1250 [==============================] - 41s 32ms/step - loss: 1.8437 - accuracy: 0.6534 - val_loss: 1.8711 - val_accuracy: 0.6259\n",
            "Epoch 21/30\n",
            "1250/1250 [==============================] - 41s 32ms/step - loss: 1.8360 - accuracy: 0.6606 - val_loss: 1.8873 - val_accuracy: 0.6051\n",
            "Epoch 22/30\n",
            "1250/1250 [==============================] - 41s 32ms/step - loss: 1.8314 - accuracy: 0.6633 - val_loss: 1.8663 - val_accuracy: 0.6287\n",
            "Epoch 23/30\n",
            "1250/1250 [==============================] - 41s 33ms/step - loss: 1.8296 - accuracy: 0.6679 - val_loss: 1.8788 - val_accuracy: 0.6170\n",
            "Epoch 24/30\n",
            "1250/1250 [==============================] - 41s 33ms/step - loss: 1.8250 - accuracy: 0.6729 - val_loss: 1.8668 - val_accuracy: 0.6291\n",
            "Epoch 25/30\n",
            "1250/1250 [==============================] - 42s 34ms/step - loss: 1.8189 - accuracy: 0.6790 - val_loss: 1.8528 - val_accuracy: 0.6427\n",
            "Epoch 26/30\n",
            "1250/1250 [==============================] - 40s 32ms/step - loss: 1.8136 - accuracy: 0.6837 - val_loss: 1.8600 - val_accuracy: 0.6342\n",
            "Epoch 27/30\n",
            "1250/1250 [==============================] - 40s 32ms/step - loss: 1.8104 - accuracy: 0.6872 - val_loss: 1.8478 - val_accuracy: 0.6465\n",
            "Epoch 28/30\n",
            "1250/1250 [==============================] - 40s 32ms/step - loss: 1.8075 - accuracy: 0.6908 - val_loss: 1.8543 - val_accuracy: 0.6393\n",
            "Epoch 29/30\n",
            "1250/1250 [==============================] - 40s 32ms/step - loss: 1.8026 - accuracy: 0.6952 - val_loss: 1.8400 - val_accuracy: 0.6555\n",
            "Epoch 30/30\n",
            "1250/1250 [==============================] - 40s 32ms/step - loss: 1.7998 - accuracy: 0.6967 - val_loss: 1.8439 - val_accuracy: 0.6495\n",
            "313/313 - 3s - loss: 1.8415 - accuracy: 0.6527\n",
            "Test Data Loss : 1.8415454626083374, Test Data Accuracy : 0.6527000069618225\n"
          ],
          "name": "stdout"
        },
        {
          "output_type": "display_data",
          "data": {
            "image/png": "[encoded data removed]",
            "text/plain": [
              "<Figure size 432x288 with 1 Axes>"
            ]
          },
          "metadata": {
            "tags": [],
            "needs_background": "light"
          }
        }
      ]
    },
    {
      "cell_type": "markdown",
      "metadata": {
        "id": "loG18XKUKuA4",
        "colab_type": "text"
      },
      "source": [
        "## Dropout Regularizer"
      ]
    },
    {
      "cell_type": "code",
      "metadata": {
        "id": "nRWXrnHfDg73",
        "colab_type": "code",
        "colab": {}
      },
      "source": [
        "def cnn_dropout_model(opt,train_x,train_y,epo,val_x,val_y,test_x,test_y):\n",
        "  inputs = tf.keras.layers.Input((32,32,3))\n",
        "  cnn_mod = tf.keras.layers.Conv2D(8,3, padding= 'SAME', activation='relu')(inputs)\n",
        "  cnn_mod = tf.keras.layers.Dropout(0.5)(cnn_mod)\n",
        "  cnn_mod = tf.keras.layers.MaxPool2D(2)(cnn_mod)\n",
        "  cnn_mod = tf.keras.layers.Conv2D(16,3, padding= 'SAME', activation='relu')(cnn_mod)\n",
        "  cnn_mod = tf.keras.layers.Dropout(0.5)(cnn_mod)\n",
        "  cnn_mod = tf.keras.layers.MaxPool2D(2)(cnn_mod)\n",
        "  cnn_mod = tf.keras.layers.Conv2D(32,3, padding= 'SAME', activation='relu')(cnn_mod)\n",
        "  cnn_mod = tf.keras.layers.Dropout(0.5)(cnn_mod)\n",
        "  cnn_mod = tf.keras.layers.MaxPool2D(2)(cnn_mod)\n",
        "  cnn_mod = tf.keras.layers.Conv2D(128,3, padding= 'SAME', activation='relu')(cnn_mod)\n",
        "  cnn_mod = tf.keras.layers.Dropout(0.5)(cnn_mod)\n",
        "  cnn_mod = tf.keras.layers.Flatten()(cnn_mod)\n",
        "  cnn_mod = tf.keras.layers.Dense(10, activation='softmax')(cnn_mod)\n",
        "\n",
        "  model = tf.keras.Model(inputs,cnn_mod)\n",
        "\n",
        "  model.compile(optimizer=opt,loss=tf.keras.losses.SparseCategoricalCrossentropy(from_logits=True),metrics=['accuracy'])\n",
        "  history = model.fit(train_x, train_y, epochs=epo, validation_data=(val_x, val_y))\n",
        "\n",
        "  plt.plot(history.history['accuracy'], label='accuracy')\n",
        "  plt.plot(history.history['val_accuracy'], label = 'val_accuracy')\n",
        "  plt.xlabel('Epoch')\n",
        "  plt.ylabel('Accuracy')\n",
        "  #plt.ylim([0.5, 1])\n",
        "  plt.legend(loc='lower right')\n",
        "\n",
        "  test_loss, test_acc = model.evaluate(test_x,  test_y, verbose=2)\n",
        "  print('Test Data Loss : {}, Test Data Accuracy : {}'.format(test_loss,test_acc))"
      ],
      "execution_count": 69,
      "outputs": []
    },
    {
      "cell_type": "code",
      "metadata": {
        "id": "j73ohjAQEbCd",
        "colab_type": "code",
        "colab": {
          "base_uri": "https://localhost:8080/",
          "height": 1000
        },
        "outputId": "7be78209-8b3d-4889-f0fd-61e476f698b6"
      },
      "source": [
        "model4 = cnn_dropout_model('adam',cifar_train_x,cifar_train_y,30,cifar_val_x,cifar_val_y,cifar_test_x,cifar_test_y)"
      ],
      "execution_count": 70,
      "outputs": [
        {
          "output_type": "stream",
          "text": [
            "Epoch 1/30\n",
            "1250/1250 [==============================] - 47s 38ms/step - loss: 2.1421 - accuracy: 0.3072 - val_loss: 2.1634 - val_accuracy: 0.3633\n",
            "Epoch 2/30\n",
            "1250/1250 [==============================] - 49s 39ms/step - loss: 2.0753 - accuracy: 0.3792 - val_loss: 2.1075 - val_accuracy: 0.3959\n",
            "Epoch 3/30\n",
            "1250/1250 [==============================] - 47s 38ms/step - loss: 2.0471 - accuracy: 0.4081 - val_loss: 2.1279 - val_accuracy: 0.3504\n",
            "Epoch 4/30\n",
            "1250/1250 [==============================] - 47s 38ms/step - loss: 2.0384 - accuracy: 0.4176 - val_loss: 2.1447 - val_accuracy: 0.3095\n",
            "Epoch 5/30\n",
            "1250/1250 [==============================] - 47s 37ms/step - loss: 2.0281 - accuracy: 0.4262 - val_loss: 2.0871 - val_accuracy: 0.3834\n",
            "Epoch 6/30\n",
            "1250/1250 [==============================] - 47s 38ms/step - loss: 2.0170 - accuracy: 0.4391 - val_loss: 2.0273 - val_accuracy: 0.4419\n",
            "Epoch 7/30\n",
            "1250/1250 [==============================] - 47s 38ms/step - loss: 2.0073 - accuracy: 0.4485 - val_loss: 2.1336 - val_accuracy: 0.3226\n",
            "Epoch 8/30\n",
            "1250/1250 [==============================] - 47s 38ms/step - loss: 2.0082 - accuracy: 0.4495 - val_loss: 2.0840 - val_accuracy: 0.3730\n",
            "Epoch 9/30\n",
            "1250/1250 [==============================] - 47s 37ms/step - loss: 2.0032 - accuracy: 0.4540 - val_loss: 2.1212 - val_accuracy: 0.3313\n",
            "Epoch 10/30\n",
            "1250/1250 [==============================] - 47s 37ms/step - loss: 2.0002 - accuracy: 0.4566 - val_loss: 2.0565 - val_accuracy: 0.3964\n",
            "Epoch 11/30\n",
            "1250/1250 [==============================] - 47s 37ms/step - loss: 2.0059 - accuracy: 0.4520 - val_loss: 2.0678 - val_accuracy: 0.3849\n",
            "Epoch 12/30\n",
            "1250/1250 [==============================] - 47s 37ms/step - loss: 1.9975 - accuracy: 0.4609 - val_loss: 2.0463 - val_accuracy: 0.4069\n",
            "Epoch 13/30\n",
            "1250/1250 [==============================] - 46s 37ms/step - loss: 1.9979 - accuracy: 0.4602 - val_loss: 2.1160 - val_accuracy: 0.3389\n",
            "Epoch 14/30\n",
            "1250/1250 [==============================] - 46s 37ms/step - loss: 2.0045 - accuracy: 0.4543 - val_loss: 2.0774 - val_accuracy: 0.3786\n",
            "Epoch 15/30\n",
            "1250/1250 [==============================] - 50s 40ms/step - loss: 2.0082 - accuracy: 0.4508 - val_loss: 2.1125 - val_accuracy: 0.3430\n",
            "Epoch 16/30\n",
            "1250/1250 [==============================] - 46s 37ms/step - loss: 2.0062 - accuracy: 0.4532 - val_loss: 2.1411 - val_accuracy: 0.3159\n",
            "Epoch 17/30\n",
            "1250/1250 [==============================] - 46s 37ms/step - loss: 2.0085 - accuracy: 0.4510 - val_loss: 2.0509 - val_accuracy: 0.4046\n",
            "Epoch 18/30\n",
            "1250/1250 [==============================] - 46s 37ms/step - loss: 2.0191 - accuracy: 0.4403 - val_loss: 2.1492 - val_accuracy: 0.3078\n",
            "Epoch 19/30\n",
            "1250/1250 [==============================] - 47s 37ms/step - loss: 2.0186 - accuracy: 0.4410 - val_loss: 2.0234 - val_accuracy: 0.4339\n",
            "Epoch 20/30\n",
            "1250/1250 [==============================] - 46s 37ms/step - loss: 2.0305 - accuracy: 0.4293 - val_loss: 1.9904 - val_accuracy: 0.4674\n",
            "Epoch 21/30\n",
            "1250/1250 [==============================] - 47s 38ms/step - loss: 2.0156 - accuracy: 0.4445 - val_loss: 1.9924 - val_accuracy: 0.4656\n",
            "Epoch 22/30\n",
            "1250/1250 [==============================] - 47s 37ms/step - loss: 2.0168 - accuracy: 0.4435 - val_loss: 2.0273 - val_accuracy: 0.4302\n",
            "Epoch 23/30\n",
            "1250/1250 [==============================] - 46s 37ms/step - loss: 2.0416 - accuracy: 0.4186 - val_loss: 2.0184 - val_accuracy: 0.4399\n",
            "Epoch 24/30\n",
            "1250/1250 [==============================] - 47s 37ms/step - loss: 2.0365 - accuracy: 0.4242 - val_loss: 2.0253 - val_accuracy: 0.4337\n",
            "Epoch 25/30\n",
            "1250/1250 [==============================] - 47s 38ms/step - loss: 2.0329 - accuracy: 0.4275 - val_loss: 2.0609 - val_accuracy: 0.3979\n",
            "Epoch 26/30\n",
            "1250/1250 [==============================] - 47s 37ms/step - loss: 2.0415 - accuracy: 0.4189 - val_loss: 2.1040 - val_accuracy: 0.3553\n",
            "Epoch 27/30\n",
            "1250/1250 [==============================] - 46s 37ms/step - loss: 2.0387 - accuracy: 0.4217 - val_loss: 2.1778 - val_accuracy: 0.2812\n",
            "Epoch 28/30\n",
            "1250/1250 [==============================] - 48s 38ms/step - loss: 2.0537 - accuracy: 0.4070 - val_loss: 2.1085 - val_accuracy: 0.3512\n",
            "Epoch 29/30\n",
            "1250/1250 [==============================] - 46s 37ms/step - loss: 2.0593 - accuracy: 0.4016 - val_loss: 2.0216 - val_accuracy: 0.4383\n",
            "Epoch 30/30\n",
            "1250/1250 [==============================] - 46s 37ms/step - loss: 2.0541 - accuracy: 0.4066 - val_loss: 2.0210 - val_accuracy: 0.4387\n",
            "313/313 - 3s - loss: 2.0193 - accuracy: 0.4415\n",
            "Test Data Loss : 2.0192670822143555, Test Data Accuracy : 0.4415000081062317\n"
          ],
          "name": "stdout"
        },
        {
          "output_type": "display_data",
          "data": {
            "image/png": "[encoded data removed]",
            "text/plain": [
              "<Figure size 432x288 with 1 Axes>"
            ]
          },
          "metadata": {
            "tags": [],
            "needs_background": "light"
          }
        }
      ]
    },
    {
      "cell_type": "markdown",
      "metadata": {
        "id": "qA054uatK2C8",
        "colab_type": "text"
      },
      "source": [
        "## Batch Normalization"
      ]
    },
    {
      "cell_type": "code",
      "metadata": {
        "id": "KLDe2oXILFam",
        "colab_type": "code",
        "colab": {}
      },
      "source": [
        "def cnn_bn_model(opt,train_x,train_y,epo,val_x,val_y,test_x,test_y):\n",
        "  inputs = tf.keras.layers.Input((32,32,3))\n",
        "  cnn_mod = tf.keras.layers.Conv2D(8,3, padding= 'SAME', activation='relu')(inputs)\n",
        "  cnn_mod = tf.keras.layers.BatchNormalization()(cnn_mod)\n",
        "  cnn_mod = tf.keras.layers.MaxPool2D(2)(cnn_mod)\n",
        "  cnn_mod = tf.keras.layers.Conv2D(16,3, padding= 'SAME', activation='relu')(cnn_mod)\n",
        "  cnn_mod = tf.keras.layers.BatchNormalization()(cnn_mod)\n",
        "  cnn_mod = tf.keras.layers.MaxPool2D(2)(cnn_mod)\n",
        "  cnn_mod = tf.keras.layers.Conv2D(32,3, padding= 'SAME', activation='relu')(cnn_mod)\n",
        "  cnn_mod = tf.keras.layers.BatchNormalization()(cnn_mod)\n",
        "  cnn_mod = tf.keras.layers.MaxPool2D(2)(cnn_mod)\n",
        "  cnn_mod = tf.keras.layers.Conv2D(128,3, padding= 'SAME', activation='relu')(cnn_mod)\n",
        "  cnn_mod = tf.keras.layers.BatchNormalization()(cnn_mod)\n",
        "  cnn_mod = tf.keras.layers.Flatten()(cnn_mod)\n",
        "  cnn_mod = tf.keras.layers.Dense(10, activation='softmax',kernel_regularizer='l2')(cnn_mod)\n",
        "\n",
        "  model = tf.keras.Model(inputs,cnn_mod)\n",
        "\n",
        "  model.compile(optimizer=opt,loss=tf.keras.losses.SparseCategoricalCrossentropy(from_logits=True),metrics=['accuracy'])\n",
        "  history = model.fit(train_x, train_y, epochs=epo, validation_data=(val_x, val_y))\n",
        "\n",
        "  plt.plot(history.history['accuracy'], label='accuracy')\n",
        "  plt.plot(history.history['val_accuracy'], label = 'val_accuracy')\n",
        "  plt.xlabel('Epoch')\n",
        "  plt.ylabel('Accuracy')\n",
        "  #plt.ylim([0.5, 1])\n",
        "  plt.legend(loc='lower right')\n",
        "\n",
        "  test_loss, test_acc = model.evaluate(test_x,  test_y, verbose=2)\n",
        "  print('Test Data Loss : {}, Test Data Accuracy : {}'.format(test_loss,test_acc))"
      ],
      "execution_count": 74,
      "outputs": []
    },
    {
      "cell_type": "code",
      "metadata": {
        "id": "SntYW6CWPUbN",
        "colab_type": "code",
        "colab": {
          "base_uri": "https://localhost:8080/",
          "height": 1000
        },
        "outputId": "a97ed639-e3b4-4bfc-89b4-536f2b454e79"
      },
      "source": [
        "model5 = cnn_bn_model('adam',cifar_train_x,cifar_train_y,30,cifar_val_x,cifar_val_y,cifar_test_x,cifar_test_y)"
      ],
      "execution_count": 75,
      "outputs": [
        {
          "output_type": "stream",
          "text": [
            "Epoch 1/30\n",
            "1250/1250 [==============================] - 53s 43ms/step - loss: 2.0333 - accuracy: 0.4225 - val_loss: 2.0098 - val_accuracy: 0.4450\n",
            "Epoch 2/30\n",
            "1250/1250 [==============================] - 52s 41ms/step - loss: 1.9297 - accuracy: 0.5267 - val_loss: 1.9451 - val_accuracy: 0.5124\n",
            "Epoch 3/30\n",
            "1250/1250 [==============================] - 53s 42ms/step - loss: 1.8870 - accuracy: 0.5716 - val_loss: 1.8950 - val_accuracy: 0.5622\n",
            "Epoch 4/30\n",
            "1250/1250 [==============================] - 52s 42ms/step - loss: 1.8572 - accuracy: 0.6016 - val_loss: 2.0039 - val_accuracy: 0.4534\n",
            "Epoch 5/30\n",
            "1250/1250 [==============================] - 52s 42ms/step - loss: 1.8359 - accuracy: 0.6233 - val_loss: 1.8596 - val_accuracy: 0.5992\n",
            "Epoch 6/30\n",
            "1250/1250 [==============================] - 54s 44ms/step - loss: 1.8228 - accuracy: 0.6364 - val_loss: 1.8742 - val_accuracy: 0.5825\n",
            "Epoch 7/30\n",
            "1250/1250 [==============================] - 53s 42ms/step - loss: 1.8033 - accuracy: 0.6562 - val_loss: 1.8468 - val_accuracy: 0.6110\n",
            "Epoch 8/30\n",
            "1250/1250 [==============================] - 53s 42ms/step - loss: 1.7885 - accuracy: 0.6712 - val_loss: 1.8594 - val_accuracy: 0.6001\n",
            "Epoch 9/30\n",
            "1250/1250 [==============================] - 53s 42ms/step - loss: 1.7767 - accuracy: 0.6824 - val_loss: 1.8405 - val_accuracy: 0.6181\n",
            "Epoch 10/30\n",
            "1250/1250 [==============================] - 53s 42ms/step - loss: 1.7671 - accuracy: 0.6931 - val_loss: 1.8250 - val_accuracy: 0.6317\n",
            "Epoch 11/30\n",
            "1250/1250 [==============================] - 52s 42ms/step - loss: 1.7534 - accuracy: 0.7071 - val_loss: 1.8346 - val_accuracy: 0.6229\n",
            "Epoch 12/30\n",
            "1250/1250 [==============================] - 53s 42ms/step - loss: 1.7425 - accuracy: 0.7174 - val_loss: 1.8348 - val_accuracy: 0.6223\n",
            "Epoch 13/30\n",
            "1250/1250 [==============================] - 52s 42ms/step - loss: 1.7363 - accuracy: 0.7236 - val_loss: 1.8072 - val_accuracy: 0.6517\n",
            "Epoch 14/30\n",
            "1250/1250 [==============================] - 52s 42ms/step - loss: 1.7259 - accuracy: 0.7344 - val_loss: 1.8135 - val_accuracy: 0.6465\n",
            "Epoch 15/30\n",
            "1250/1250 [==============================] - 51s 41ms/step - loss: 1.7184 - accuracy: 0.7423 - val_loss: 1.8138 - val_accuracy: 0.6451\n",
            "Epoch 16/30\n",
            "1250/1250 [==============================] - 52s 42ms/step - loss: 1.7141 - accuracy: 0.7471 - val_loss: 1.8027 - val_accuracy: 0.6568\n",
            "Epoch 17/30\n",
            "1250/1250 [==============================] - 53s 42ms/step - loss: 1.7070 - accuracy: 0.7531 - val_loss: 1.8316 - val_accuracy: 0.6271\n",
            "Epoch 18/30\n",
            "1250/1250 [==============================] - 55s 44ms/step - loss: 1.7023 - accuracy: 0.7579 - val_loss: 1.8062 - val_accuracy: 0.6531\n",
            "Epoch 19/30\n",
            "1250/1250 [==============================] - 52s 42ms/step - loss: 1.6931 - accuracy: 0.7675 - val_loss: 1.8076 - val_accuracy: 0.6513\n",
            "Epoch 20/30\n",
            "1250/1250 [==============================] - 52s 42ms/step - loss: 1.6895 - accuracy: 0.7715 - val_loss: 1.8312 - val_accuracy: 0.6275\n",
            "Epoch 21/30\n",
            "1250/1250 [==============================] - 52s 42ms/step - loss: 1.6845 - accuracy: 0.7771 - val_loss: 1.7986 - val_accuracy: 0.6597\n",
            "Epoch 22/30\n",
            "1250/1250 [==============================] - 53s 42ms/step - loss: 1.6790 - accuracy: 0.7817 - val_loss: 1.8050 - val_accuracy: 0.6551\n",
            "Epoch 23/30\n",
            "1250/1250 [==============================] - 53s 42ms/step - loss: 1.6758 - accuracy: 0.7850 - val_loss: 1.8106 - val_accuracy: 0.6485\n",
            "Epoch 24/30\n",
            "1250/1250 [==============================] - 52s 41ms/step - loss: 1.6709 - accuracy: 0.7904 - val_loss: 1.8018 - val_accuracy: 0.6569\n",
            "Epoch 25/30\n",
            "1250/1250 [==============================] - 53s 42ms/step - loss: 1.6667 - accuracy: 0.7951 - val_loss: 1.8071 - val_accuracy: 0.6511\n",
            "Epoch 26/30\n",
            "1250/1250 [==============================] - 53s 42ms/step - loss: 1.6611 - accuracy: 0.7995 - val_loss: 1.8000 - val_accuracy: 0.6580\n",
            "Epoch 27/30\n",
            "1250/1250 [==============================] - 52s 42ms/step - loss: 1.6573 - accuracy: 0.8040 - val_loss: 1.8036 - val_accuracy: 0.6559\n",
            "Epoch 28/30\n",
            "1250/1250 [==============================] - 52s 42ms/step - loss: 1.6558 - accuracy: 0.8051 - val_loss: 1.8016 - val_accuracy: 0.6568\n",
            "Epoch 29/30\n",
            "1250/1250 [==============================] - 54s 43ms/step - loss: 1.6555 - accuracy: 0.8051 - val_loss: 1.8070 - val_accuracy: 0.6532\n",
            "Epoch 30/30\n",
            "1250/1250 [==============================] - 53s 42ms/step - loss: 1.6495 - accuracy: 0.8120 - val_loss: 1.8079 - val_accuracy: 0.6512\n",
            "313/313 - 4s - loss: 1.8092 - accuracy: 0.6503\n",
            "Test Data Loss : 1.8091732263565063, Test Data Accuracy : 0.6503000259399414\n"
          ],
          "name": "stdout"
        },
        {
          "output_type": "display_data",
          "data": {
            "image/png": "[encoded data removed]",
            "text/plain": [
              "<Figure size 432x288 with 1 Axes>"
            ]
          },
          "metadata": {
            "tags": [],
            "needs_background": "light"
          }
        }
      ]
    },
    {
      "cell_type": "markdown",
      "metadata": {
        "id": "WnelGeqtVsPm",
        "colab_type": "text"
      },
      "source": [
        "## Mix and Match"
      ]
    },
    {
      "cell_type": "code",
      "metadata": {
        "id": "OYCeWjnOszq5",
        "colab_type": "code",
        "colab": {}
      },
      "source": [
        "def cnn_mix_model(opt,train_x,train_y,epo,val_x,val_y,test_x,test_y):\n",
        "  inputs = tf.keras.layers.Input((32,32,3))\n",
        "  cnn_mod = tf.keras.layers.Conv2D(8,3, padding= 'SAME', activation='relu')(inputs)\n",
        "  cnn_mod = tf.keras.layers.BatchNormalization()(cnn_mod)\n",
        "  cnn_mod = tf.keras.layers.Dropout(0.2)(cnn_mod)\n",
        "  cnn_mod = tf.keras.layers.MaxPool2D(2)(cnn_mod)\n",
        "  cnn_mod = tf.keras.layers.Conv2D(16,3, padding= 'SAME', activation='relu')(cnn_mod)\n",
        "  cnn_mod = tf.keras.layers.BatchNormalization()(cnn_mod)\n",
        "  cnn_mod = tf.keras.layers.Dropout(0.2)(cnn_mod)\n",
        "  cnn_mod = tf.keras.layers.MaxPool2D(2)(cnn_mod)\n",
        "  cnn_mod = tf.keras.layers.Conv2D(32,3, padding= 'SAME', activation='relu')(cnn_mod)\n",
        "  cnn_mod = tf.keras.layers.BatchNormalization()(cnn_mod)\n",
        "  cnn_mod = tf.keras.layers.Dropout(0.2)(cnn_mod)\n",
        "  cnn_mod = tf.keras.layers.MaxPool2D(2)(cnn_mod)\n",
        "  cnn_mod = tf.keras.layers.Conv2D(128,3, padding= 'SAME', activation='relu')(cnn_mod)\n",
        "  cnn_mod = tf.keras.layers.BatchNormalization()(cnn_mod)\n",
        "  cnn_mod = tf.keras.layers.Flatten()(cnn_mod)\n",
        "  cnn_mod = tf.keras.layers.Dense(10, activation='softmax')(cnn_mod)\n",
        "\n",
        "  model = tf.keras.Model(inputs,cnn_mod)\n",
        "\n",
        "  model.compile(optimizer=opt,loss=tf.keras.losses.SparseCategoricalCrossentropy(from_logits=True),metrics=['accuracy'])\n",
        "  history = model.fit(train_x, train_y, epochs=epo, validation_data=(val_x, val_y))\n",
        "\n",
        "  plt.plot(history.history['accuracy'], label='accuracy')\n",
        "  plt.plot(history.history['val_accuracy'], label = 'val_accuracy')\n",
        "  plt.xlabel('Epoch')\n",
        "  plt.ylabel('Accuracy')\n",
        "  #plt.ylim([0.5, 1])\n",
        "  plt.legend(loc='lower right')\n",
        "\n",
        "  test_loss, test_acc = model.evaluate(test_x,  test_y, verbose=2)\n",
        "  print('Test Data Loss : {}, Test Data Accuracy : {}'.format(test_loss,test_acc))"
      ],
      "execution_count": 76,
      "outputs": []
    },
    {
      "cell_type": "code",
      "metadata": {
        "id": "vxJIxy-9Wz2K",
        "colab_type": "code",
        "colab": {
          "base_uri": "https://localhost:8080/",
          "height": 1000
        },
        "outputId": "79e35666-49bd-41d5-ad81-09ed7c06c704"
      },
      "source": [
        "model6 = cnn_mix_model('adam',cifar_train_x,cifar_train_y,30,cifar_val_x,cifar_val_y,cifar_test_x,cifar_test_y)"
      ],
      "execution_count": 77,
      "outputs": [
        {
          "output_type": "stream",
          "text": [
            "Epoch 1/30\n",
            "1250/1250 [==============================] - 58s 47ms/step - loss: 2.0434 - accuracy: 0.4113 - val_loss: 2.0139 - val_accuracy: 0.4433\n",
            "Epoch 2/30\n",
            "1250/1250 [==============================] - 59s 47ms/step - loss: 1.9573 - accuracy: 0.4981 - val_loss: 2.0568 - val_accuracy: 0.3984\n",
            "Epoch 3/30\n",
            "1250/1250 [==============================] - 61s 49ms/step - loss: 1.9239 - accuracy: 0.5329 - val_loss: 1.9592 - val_accuracy: 0.4986\n",
            "Epoch 4/30\n",
            "1250/1250 [==============================] - 61s 49ms/step - loss: 1.8965 - accuracy: 0.5601 - val_loss: 2.0919 - val_accuracy: 0.3649\n",
            "Epoch 5/30\n",
            "1250/1250 [==============================] - 60s 48ms/step - loss: 1.8780 - accuracy: 0.5801 - val_loss: 1.9783 - val_accuracy: 0.4779\n",
            "Epoch 6/30\n",
            "1250/1250 [==============================] - 59s 47ms/step - loss: 1.8604 - accuracy: 0.5979 - val_loss: 1.9501 - val_accuracy: 0.5065\n",
            "Epoch 7/30\n",
            "1250/1250 [==============================] - 59s 48ms/step - loss: 1.8507 - accuracy: 0.6077 - val_loss: 1.9857 - val_accuracy: 0.4725\n",
            "Epoch 8/30\n",
            "1250/1250 [==============================] - 60s 48ms/step - loss: 1.8393 - accuracy: 0.6191 - val_loss: 1.9436 - val_accuracy: 0.5155\n",
            "Epoch 9/30\n",
            "1250/1250 [==============================] - 61s 49ms/step - loss: 1.8288 - accuracy: 0.6306 - val_loss: 1.8729 - val_accuracy: 0.5858\n",
            "Epoch 10/30\n",
            "1250/1250 [==============================] - 60s 48ms/step - loss: 1.8179 - accuracy: 0.6406 - val_loss: 1.9317 - val_accuracy: 0.5273\n",
            "Epoch 11/30\n",
            "1250/1250 [==============================] - 61s 49ms/step - loss: 1.8145 - accuracy: 0.6440 - val_loss: 1.9190 - val_accuracy: 0.5372\n",
            "Epoch 12/30\n",
            "1250/1250 [==============================] - 60s 48ms/step - loss: 1.8065 - accuracy: 0.6526 - val_loss: 1.8899 - val_accuracy: 0.5696\n",
            "Epoch 13/30\n",
            "1250/1250 [==============================] - 61s 48ms/step - loss: 1.8029 - accuracy: 0.6568 - val_loss: 1.8878 - val_accuracy: 0.5696\n",
            "Epoch 14/30\n",
            "1250/1250 [==============================] - 63s 50ms/step - loss: 1.7903 - accuracy: 0.6681 - val_loss: 1.8635 - val_accuracy: 0.5963\n",
            "Epoch 15/30\n",
            "1250/1250 [==============================] - 62s 50ms/step - loss: 1.7857 - accuracy: 0.6742 - val_loss: 2.0040 - val_accuracy: 0.4562\n",
            "Epoch 16/30\n",
            "1250/1250 [==============================] - 61s 49ms/step - loss: 1.7821 - accuracy: 0.6773 - val_loss: 1.8245 - val_accuracy: 0.6343\n",
            "Epoch 17/30\n",
            "1250/1250 [==============================] - 61s 49ms/step - loss: 1.7760 - accuracy: 0.6837 - val_loss: 1.8971 - val_accuracy: 0.5614\n",
            "Epoch 18/30\n",
            "1250/1250 [==============================] - 61s 49ms/step - loss: 1.7738 - accuracy: 0.6849 - val_loss: 1.9112 - val_accuracy: 0.5475\n",
            "Epoch 19/30\n",
            "1250/1250 [==============================] - 61s 49ms/step - loss: 1.7724 - accuracy: 0.6870 - val_loss: 1.8250 - val_accuracy: 0.6339\n",
            "Epoch 20/30\n",
            "1250/1250 [==============================] - 62s 49ms/step - loss: 1.7690 - accuracy: 0.6902 - val_loss: 1.8612 - val_accuracy: 0.5981\n",
            "Epoch 21/30\n",
            "1250/1250 [==============================] - 61s 49ms/step - loss: 1.7636 - accuracy: 0.6957 - val_loss: 1.8477 - val_accuracy: 0.6119\n",
            "Epoch 22/30\n",
            "1250/1250 [==============================] - 61s 48ms/step - loss: 1.7590 - accuracy: 0.7002 - val_loss: 1.9065 - val_accuracy: 0.5526\n",
            "Epoch 23/30\n",
            "1250/1250 [==============================] - 60s 48ms/step - loss: 1.7603 - accuracy: 0.6993 - val_loss: 2.1065 - val_accuracy: 0.3526\n",
            "Epoch 24/30\n",
            "1250/1250 [==============================] - 62s 49ms/step - loss: 1.7555 - accuracy: 0.7035 - val_loss: 1.8880 - val_accuracy: 0.5701\n",
            "Epoch 25/30\n",
            "1250/1250 [==============================] - 61s 49ms/step - loss: 1.7468 - accuracy: 0.7128 - val_loss: 1.8701 - val_accuracy: 0.5888\n",
            "Epoch 26/30\n",
            "1250/1250 [==============================] - 61s 48ms/step - loss: 1.7459 - accuracy: 0.7138 - val_loss: 1.8278 - val_accuracy: 0.6321\n",
            "Epoch 27/30\n",
            "1250/1250 [==============================] - 61s 48ms/step - loss: 1.7468 - accuracy: 0.7125 - val_loss: 1.8603 - val_accuracy: 0.5983\n",
            "Epoch 28/30\n",
            "1250/1250 [==============================] - 61s 49ms/step - loss: 1.7413 - accuracy: 0.7187 - val_loss: 1.9729 - val_accuracy: 0.4862\n",
            "Epoch 29/30\n",
            "1250/1250 [==============================] - 61s 49ms/step - loss: 1.7396 - accuracy: 0.7206 - val_loss: 1.8621 - val_accuracy: 0.5968\n",
            "Epoch 30/30\n",
            "1250/1250 [==============================] - 62s 49ms/step - loss: 1.7395 - accuracy: 0.7197 - val_loss: 1.8062 - val_accuracy: 0.6516\n",
            "313/313 - 4s - loss: 1.8142 - accuracy: 0.6449\n",
            "Test Data Loss : 1.8141957521438599, Test Data Accuracy : 0.6449000239372253\n"
          ],
          "name": "stdout"
        },
        {
          "output_type": "display_data",
          "data": {
            "image/png": "[encoded data removed]",
            "text/plain": [
              "<Figure size 432x288 with 1 Axes>"
            ]
          },
          "metadata": {
            "tags": [],
            "needs_background": "light"
          }
        }
      ]
    },
    {
      "cell_type": "markdown",
      "metadata": {
        "id": "t0yXjqj8mq_k",
        "colab_type": "text"
      },
      "source": [
        "## Task Summary"
      ]
    },
    {
      "cell_type": "markdown",
      "metadata": {
        "id": "TD0uWnOtmyw8",
        "colab_type": "text"
      },
      "source": [
        "| Architecture | Regularizer             | Total epochs | Training Accuracy | Validation Accuracy | Testing Accuracy | Observations                                                                      |\n",
        "|--------------|-------------------------|--------------|-------------------|---------------------|------------------|-----------------------------------------------------------------------------------|\n",
        "| CNN(Adam)    | None                    | 30           | 77.09             | 66.06               | 65.59            | Overfitting obs after 7 epochs                                                    |\n",
        "| CNN(Adam)    | L2                      | 30           | 69.67             | 64.95               | 65.27            | Slight overfitting after 20 epochs                                                |\n",
        "| CNN(Adam)    | Dropout(0.5)            | 30           | 40.66             | 43.87               | 44.15            | The validation accuracy was inconsistent throughout and had too much fluctuations |\n",
        "| CNN(Adam)    | Batch Normalization     | 30           | 81.20             | 65.12               | 65.03            | No effect of reg. Overfitting obs after 5 epochs                                  |\n",
        "| CNN(Adam)    | Mix(L2,Dropout(0.2),BN) | 30           | 71.97             | 65.16               | 64.49            | Strong fluctuation in validation accuracy.                                        |"
      ]
    },
    {
      "cell_type": "markdown",
      "metadata": {
        "id": "fPyvFD0Um35U",
        "colab_type": "text"
      },
      "source": [
        "For the task given a basic CNN Model was chosen with 4 conv layers. Without any regularization technique, overftting was prominent. With the help of L2 penalty, the overfitting was handled efficiently but also resulted in slower learning. On the other hand, Dropout regularizer was impacted by heavy fluctuation on the validation accuracy and creates an uncertainity in the model.\n"
      ]
    },
    {
      "cell_type": "code",
      "metadata": {
        "id": "PvY_6n0cnjC5",
        "colab_type": "code",
        "colab": {}
      },
      "source": [
        ""
      ],
      "execution_count": null,
      "outputs": []
    }
  ]
}