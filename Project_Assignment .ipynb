{
  "nbformat": 4,
  "nbformat_minor": 0,
  "metadata": {
    "colab": {
      "name": "Project_Assignment.ipynb",
      "provenance": [],
      "collapsed_sections": []
    },
    "kernelspec": {
      "name": "python3",
      "display_name": "Python 3"
    },
    "accelerator": "GPU"
  },
  "cells": [
    {
      "cell_type": "markdown",
      "metadata": {
        "id": "lXwF52iXMccG",
        "colab_type": "text"
      },
      "source": [
        "# Project Assignment"
      ]
    },
    {
      "cell_type": "markdown",
      "metadata": {
        "id": "UF4vaIhvMqHu",
        "colab_type": "text"
      },
      "source": [
        "## Task 1: Optimizers"
      ]
    },
    {
      "cell_type": "markdown",
      "metadata": {
        "id": "ozBleTfLMyVU",
        "colab_type": "text"
      },
      "source": [
        "* Motivation    : Analyze the affect of different Optimizers on the training behaviour\n",
        "  \n",
        " * Optimizer 1: Adadelta,\n",
        " * Optimizer 2: Adagrad\n",
        " * Optimizer 3: Adam)\n",
        " * Optimizer 4: Adamax,\n",
        " * Optimizer 5: Ftrl,\n",
        " * Optimizer 6: Nadam,\n",
        " * Optimizer 7: SGD\n",
        "\n",
        "* Dataset       :\n",
        " * Cifar10, \n",
        " *MNIST Fashion\n",
        "\n",
        "* Architecture  :\n",
        " * Basic Convolutional Neural Network\n",
        " * Resnet\n",
        " * InceptionNet\n",
        " * Densely Connected Convolutional Neural Network\n",
        "\n",
        "* Comparision Criteria : Training Curve\n",
        " * Steps unitll convergence\n",
        " * Training Accuracy \n",
        " * Loss\n",
        " * Stability of Training\n"
      ]
    },
    {
      "cell_type": "markdown",
      "metadata": {
        "id": "GduleZpeQYg3",
        "colab_type": "text"
      },
      "source": [
        "## Task 2: Regularization"
      ]
    },
    {
      "cell_type": "markdown",
      "metadata": {
        "id": "Fk7jZNgOZo96",
        "colab_type": "text"
      },
      "source": [
        "* Motivation: Investigate how different Regularization techniques affect the training behavior.\n",
        "\n",
        "* Dataset : Cifar10\n",
        "\n",
        "* Architecture : Best model from Task1's architecture\n",
        "\n",
        "* Regularization techniques:\n",
        " * L1, L2 regularizer\n",
        " * Dropouts\n",
        " * Adding noise\n",
        "\n",
        "* Comparision Criteria: Training Curves\n",
        " * Steps still convergence\n",
        " * Training accuracy untill convergence\n",
        " * Stability of training\n"
      ]
    },
    {
      "cell_type": "markdown",
      "metadata": {
        "id": "HCk4ei_phKg2",
        "colab_type": "text"
      },
      "source": [
        "## Task 3: Transfer Learning"
      ]
    },
    {
      "cell_type": "markdown",
      "metadata": {
        "id": "e39dM9eTktrs",
        "colab_type": "text"
      },
      "source": [
        ""
      ]
    },
    {
      "cell_type": "markdown",
      "metadata": {
        "id": "fv7pPmMIhV3b",
        "colab_type": "text"
      },
      "source": [
        ""
      ]
    },
    {
      "cell_type": "code",
      "metadata": {
        "id": "npHp57LAMv07",
        "colab_type": "code",
        "colab": {}
      },
      "source": [
        ""
      ],
      "execution_count": null,
      "outputs": []
    }
  ]
}