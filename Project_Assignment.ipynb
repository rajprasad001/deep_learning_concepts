{
  "nbformat": 4,
  "nbformat_minor": 0,
  "metadata": {
    "colab": {
      "name": "Project_Assignment.ipynb",
      "provenance": [],
      "collapsed_sections": [
        "bRdJ0_o2BCpK",
        "MCt9pJZvEkfw",
        "IzpteW1JEr4B",
        "UF4vaIhvMqHu",
        "rQgtH-faBiGW"
      ],
      "authorship_tag": "ABX9TyMqHHglnSmBNU1+GgAiSKck",
      "include_colab_link": true
    },
    "kernelspec": {
      "name": "python3",
      "display_name": "Python 3"
    },
    "accelerator": "GPU"
  },
  "cells": [
    {
      "cell_type": "markdown",
      "metadata": {
        "id": "view-in-github",
        "colab_type": "text"
      },
      "source": [
        "<a href=\"https://colab.research.google.com/github/rajprasad001/deep_learning_concepts/blob/master/Project_Assignment.ipynb\" target=\"_parent\"><img src=\"https://colab.research.google.com/assets/colab-badge.svg\" alt=\"Open In Colab\"/></a>"
      ]
    },
    {
      "cell_type": "markdown",
      "metadata": {
        "id": "lXwF52iXMccG",
        "colab_type": "text"
      },
      "source": [
        "# Project Assignment"
      ]
    },
    {
      "cell_type": "markdown",
      "metadata": {
        "id": "_D93JAy_dVSg",
        "colab_type": "text"
      },
      "source": [
        " ## Importing Dependencies(Libraries)"
      ]
    },
    {
      "cell_type": "markdown",
      "metadata": {
        "id": "DAK8-A7tHBdo",
        "colab_type": "text"
      },
      "source": [
        "Major Libraries Used : TensorFlow, Keras, scikit-learn, matplotlib, NumPy"
      ]
    },
    {
      "cell_type": "code",
      "metadata": {
        "id": "IzT8J9WydjQk",
        "colab_type": "code",
        "colab": {}
      },
      "source": [
        "import numpy as np\n",
        "import pandas as pd\n",
        "import tensorflow as tf\n",
        "import matplotlib.pyplot as plt\n",
        "from keras.datasets import cifar10\n",
        "from keras.datasets import fashion_mnist\n",
        "from sklearn.metrics import confusion_matrix\n",
        "from sklearn.model_selection import train_test_split\n",
        "from tensorflow.keras import datasets, layers, models"
      ],
      "execution_count": 1,
      "outputs": []
    },
    {
      "cell_type": "markdown",
      "metadata": {
        "id": "bRdJ0_o2BCpK",
        "colab_type": "text"
      },
      "source": [
        "## Loading and Splitting Data"
      ]
    },
    {
      "cell_type": "markdown",
      "metadata": {
        "id": "5BqVrmOwGNBd",
        "colab_type": "text"
      },
      "source": [
        "We will be using 2 different dataset for the completion of the assignments\n",
        "1. CIFAR10\n",
        "2. Fashion MNIST"
      ]
    },
    {
      "cell_type": "markdown",
      "metadata": {
        "id": "MCt9pJZvEkfw",
        "colab_type": "text"
      },
      "source": [
        "### Loading and Splitting CIFAR10 DATA into Train, Validation and Test "
      ]
    },
    {
      "cell_type": "code",
      "metadata": {
        "id": "mqK5A4psBHL9",
        "colab_type": "code",
        "colab": {}
      },
      "source": [
        "#Splitting the data into Train and Test. The Test Data should be completely unseen.\n",
        "#By default 10000 instances are used as test data in Cifar10\n",
        "(cifar_train_x_temp, cifar_train_y_temp), (cifar_test_x , cifar_test_y) =cifar10.load_data() \n",
        "\n",
        "#Further, for hyperparameter tuning, 20% of the train data is futher split into train and validation data\n",
        "cifar_train_x, cifar_val_x, cifar_train_y, cifar_val_y = train_test_split(cifar_train_x_temp, cifar_train_y_temp, test_size=0.20, random_state=42)\n",
        "\n",
        "#Standardizing the dataset\n",
        "cifar_train_x, cifar_val_x, cifar_test_x = cifar_train_x/255.0, cifar_val_x/255.0, cifar_test_x/255.0"
      ],
      "execution_count": 2,
      "outputs": []
    },
    {
      "cell_type": "code",
      "metadata": {
        "id": "89fRmsecCqYP",
        "colab_type": "code",
        "colab": {
          "base_uri": "https://localhost:8080/",
          "height": 0
        },
        "outputId": "bbe5515f-49c3-4556-c1fb-e4dac034561b"
      },
      "source": [
        "print('cifar10 train data      : {}'.format(cifar_train_x.shape))\n",
        "print('cifar10 validation data : {}'.format(cifar_val_x.shape))\n",
        "print('cifar10 test data       : {}'.format(cifar_test_x.shape))"
      ],
      "execution_count": 3,
      "outputs": [
        {
          "output_type": "stream",
          "text": [
            "cifar10 train data      : (40000, 32, 32, 3)\n",
            "cifar10 validation data : (10000, 32, 32, 3)\n",
            "cifar10 test data       : (10000, 32, 32, 3)\n"
          ],
          "name": "stdout"
        }
      ]
    },
    {
      "cell_type": "code",
      "metadata": {
        "id": "nncS5aMfJCpf",
        "colab_type": "code",
        "colab": {}
      },
      "source": [
        "#Standardizing the train dataset\n",
        "#cifar_train_y = cifar_train_y.reshape((-1))\n",
        "#cifar_train_x = tf.data.Dataset.from_tensor_slices((cifar_train_x.reshape([-1,32,32,3]).astype(np.float32)/255, cifar_train_y.astype(np.int32)))\n",
        "\n",
        "#Standardizing the validation dataset\n",
        "#cifar_val_y = cifar_val_y.reshape((-1))\n",
        "#cifar_val_x = tf.data.Dataset.from_tensor_slices((cifar_val_x.reshape([-1,32,32,3]).astype(np.float32)/255, cifar_val_y.astype(np.int32)))\n",
        "\n",
        "#Standardizing the test dataset\n",
        "#cifar_test_y = cifar_test_y.reshape((-1))\n",
        "#cifar_test_x = tf.data.Dataset.from_tensor_slices((cifar_test_x.reshape([-1,32,32,3]).astype(np.float32)/255, cifar_test_y.astype(np.int32)))"
      ],
      "execution_count": 4,
      "outputs": []
    },
    {
      "cell_type": "markdown",
      "metadata": {
        "id": "IzpteW1JEr4B",
        "colab_type": "text"
      },
      "source": [
        "### Loading and Splitting MNIST FASHION DATA into Train, Validation and Test"
      ]
    },
    {
      "cell_type": "code",
      "metadata": {
        "id": "xN5-zJyOE4K5",
        "colab_type": "code",
        "colab": {}
      },
      "source": [
        "(mnist_train_x_temp, mnist_train_y_temp), (mnist_test_x , mnist_test_y) =fashion_mnist.load_data() \n",
        "#Splitting the data into Train and Test. The Test Data should be completely unseen.\n",
        "#By default 10000 instances are used as test data in Fashion Mnist\n",
        "mnist_train_x, mnist_val_x, mnist_train_y, mnist_val_y = train_test_split(mnist_train_x_temp, mnist_train_y_temp, test_size=0.20, random_state=42)\n",
        "#Further, for hyperparameter tuning, 20% of the train data is futher split into train and validation data"
      ],
      "execution_count": 5,
      "outputs": []
    },
    {
      "cell_type": "code",
      "metadata": {
        "id": "LfJAceOuFr4e",
        "colab_type": "code",
        "colab": {
          "base_uri": "https://localhost:8080/",
          "height": 0
        },
        "outputId": "700e5e5d-2718-4b4b-b210-cc08797cd333"
      },
      "source": [
        "print('MNIST FASHION train data      : {}'.format(mnist_train_x.shape))\n",
        "print('MNIST FASHION validation data : {}'.format(mnist_val_x.shape))\n",
        "print('MNIST FASHION test data       : {}'.format(mnist_test_x.shape))"
      ],
      "execution_count": 6,
      "outputs": [
        {
          "output_type": "stream",
          "text": [
            "MNIST FASHION train data      : (48000, 28, 28)\n",
            "MNIST FASHION validation data : (12000, 28, 28)\n",
            "MNIST FASHION test data       : (10000, 28, 28)\n"
          ],
          "name": "stdout"
        }
      ]
    },
    {
      "cell_type": "code",
      "metadata": {
        "id": "x5rO7CHPJPUS",
        "colab_type": "code",
        "colab": {}
      },
      "source": [
        "#Standardizing the train dataset\n",
        "#mnist_train_y = mnist_train_y.reshape((-1))\n",
        "#cifar_train_x = tf.data.Dataset.from_tensor_slices((mnist_train_x.reshape([-1,32,32,3]).astype(np.float32)/255, mnist_train_y.astype(np.int32)))\n",
        "\n",
        "#Standardizing the validation dataset\n",
        "#mnist_val_y = mnist_val_y.reshape((-1))\n",
        "#mnist_val_x = tf.data.Dataset.from_tensor_slices((mnist_val_x.reshape([-1,32,32,3]).astype(np.float32)/255, mnist_val_y.astype(np.int32)))\n",
        "\n",
        "#Standardizing the test dataset\n",
        "#mnist_test_y = mnist_test_y.reshape((-1))\n",
        "#mnist_test_x = tf.data.Dataset.from_tensor_slices((mnist_test_x.reshape([-1,32,32,3]).astype(np.float32)/255, mnist_test_y.astype(np.int32)))\n"
      ],
      "execution_count": 7,
      "outputs": []
    },
    {
      "cell_type": "markdown",
      "metadata": {
        "id": "UF4vaIhvMqHu",
        "colab_type": "text"
      },
      "source": [
        "## Task 1: Optimizers"
      ]
    },
    {
      "cell_type": "markdown",
      "metadata": {
        "id": "QgEbGL6jEQmd",
        "colab_type": "text"
      },
      "source": [
        "### Task 1 Description"
      ]
    },
    {
      "cell_type": "markdown",
      "metadata": {
        "id": "ozBleTfLMyVU",
        "colab_type": "text"
      },
      "source": [
        "* Motivation    : Analyze the affect of different Optimizers on the training behaviour\n",
        "  \n",
        " * Optimizer 1: Adadelta,\n",
        " * Optimizer 2: Adagrad\n",
        " * Optimizer 3: Adam)\n",
        " * Optimizer 4: Adamax,\n",
        " * Optimizer 5: Ftrl,\n",
        " * Optimizer 6: Nadam,\n",
        " * Optimizer 7: SGD\n",
        "\n",
        "* Dataset       :\n",
        " * Cifar10, \n",
        " *MNIST Fashion\n",
        "\n",
        "* Architecture  :\n",
        " * Basic Convolutional Neural Network\n",
        " * Resnet\n",
        " * InceptionNet\n",
        " * Densely Connected Convolutional Neural Network\n",
        "\n",
        "* Comparision Criteria : Training Curve\n",
        " * Steps unitll convergence\n",
        " * Training Accuracy \n",
        " * Loss\n",
        " * Stability of Training\n"
      ]
    },
    {
      "cell_type": "markdown",
      "metadata": {
        "id": "F8S35KUbKKcG",
        "colab_type": "text"
      },
      "source": [
        "### TASK 1.1 BASIC Convolutional Neural Network"
      ]
    },
    {
      "cell_type": "code",
      "metadata": {
        "id": "zRhhL7rUGbpe",
        "colab_type": "code",
        "colab": {
          "base_uri": "https://localhost:8080/",
          "height": 459
        },
        "outputId": "6ba85bf4-76f1-476c-f714-c05ba649fff8"
      },
      "source": [
        "cnn_model = models.Sequential()\n",
        "cnn_model.add(layers.Conv2D(8,(3,3),padding = 'SAME', activation='relu', input_shape = (32,32,3)))\n",
        "cnn_model.add(layers.MaxPool2D((2,2)))\n",
        "cnn_model.add(layers.Conv2D(16,(3,3),padding = 'SAME', activation='relu'))\n",
        "cnn_model.add(layers.MaxPool2D((2,2)))\n",
        "cnn_model.add(layers.Conv2D(32,(3,3),padding = 'SAME', activation='relu'))\n",
        "cnn_model.add(layers.MaxPool2D((2,2)))\n",
        "cnn_model.add(layers.Conv2D(128,(3,3),padding = 'SAME', activation='relu'))\n",
        "cnn_model.add(layers.Flatten())\n",
        "cnn_model.add(layers.Dense(10))\n",
        "cnn_model.summary()"
      ],
      "execution_count": 8,
      "outputs": [
        {
          "output_type": "stream",
          "text": [
            "Model: \"sequential\"\n",
            "_________________________________________________________________\n",
            "Layer (type)                 Output Shape              Param #   \n",
            "=================================================================\n",
            "conv2d (Conv2D)              (None, 32, 32, 8)         224       \n",
            "_________________________________________________________________\n",
            "max_pooling2d (MaxPooling2D) (None, 16, 16, 8)         0         \n",
            "_________________________________________________________________\n",
            "conv2d_1 (Conv2D)            (None, 16, 16, 16)        1168      \n",
            "_________________________________________________________________\n",
            "max_pooling2d_1 (MaxPooling2 (None, 8, 8, 16)          0         \n",
            "_________________________________________________________________\n",
            "conv2d_2 (Conv2D)            (None, 8, 8, 32)          4640      \n",
            "_________________________________________________________________\n",
            "max_pooling2d_2 (MaxPooling2 (None, 4, 4, 32)          0         \n",
            "_________________________________________________________________\n",
            "conv2d_3 (Conv2D)            (None, 4, 4, 128)         36992     \n",
            "_________________________________________________________________\n",
            "flatten (Flatten)            (None, 2048)              0         \n",
            "_________________________________________________________________\n",
            "dense (Dense)                (None, 10)                20490     \n",
            "=================================================================\n",
            "Total params: 63,514\n",
            "Trainable params: 63,514\n",
            "Non-trainable params: 0\n",
            "_________________________________________________________________\n"
          ],
          "name": "stdout"
        }
      ]
    },
    {
      "cell_type": "code",
      "metadata": {
        "id": "lKfyblil0NRl",
        "colab_type": "code",
        "colab": {
          "base_uri": "https://localhost:8080/",
          "height": 657
        },
        "outputId": "867adf32-f81d-477b-b4aa-3f8d5d4b3487"
      },
      "source": [
        "cnn_model.compile(optimizer='adam',loss=tf.keras.losses.SparseCategoricalCrossentropy(from_logits=True),metrics=['accuracy'])\n",
        "history = cnn_model.fit(cifar_train_x, cifar_train_y, epochs=10, validation_data=(cifar_val_x, cifar_val_y))\n",
        "  \n",
        "plt.plot(history.history['accuracy'], label='accuracy')\n",
        "plt.plot(history.history['val_accuracy'], label = 'val_accuracy')\n",
        "plt.xlabel('Epoch')\n",
        "plt.ylabel('Accuracy')\n",
        "plt.ylim([0.5, 1])\n",
        "plt.legend(loc='lower right')\n",
        "\n",
        "test_loss, test_acc = cnn_model.evaluate(cifar_test_x,  cifar_test_y, verbose=2)\n",
        "print('Test Data Loss : {}, Test Data Accuracy : {}'.format(test_loss,test_acc))"
      ],
      "execution_count": 9,
      "outputs": [
        {
          "output_type": "stream",
          "text": [
            "Epoch 1/10\n",
            "1250/1250 [==============================] - 4s 3ms/step - loss: 1.6050 - accuracy: 0.4152 - val_loss: 1.3495 - val_accuracy: 0.5146\n",
            "Epoch 2/10\n",
            "1250/1250 [==============================] - 4s 3ms/step - loss: 1.2517 - accuracy: 0.5535 - val_loss: 1.1764 - val_accuracy: 0.5869\n",
            "Epoch 3/10\n",
            "1250/1250 [==============================] - 4s 3ms/step - loss: 1.0993 - accuracy: 0.6113 - val_loss: 1.0707 - val_accuracy: 0.6255\n",
            "Epoch 4/10\n",
            "1250/1250 [==============================] - 4s 3ms/step - loss: 0.9854 - accuracy: 0.6530 - val_loss: 1.0249 - val_accuracy: 0.6462\n",
            "Epoch 5/10\n",
            "1250/1250 [==============================] - 4s 3ms/step - loss: 0.8943 - accuracy: 0.6853 - val_loss: 0.9603 - val_accuracy: 0.6680\n",
            "Epoch 6/10\n",
            "1250/1250 [==============================] - 4s 3ms/step - loss: 0.8173 - accuracy: 0.7145 - val_loss: 0.9621 - val_accuracy: 0.6703\n",
            "Epoch 7/10\n",
            "1250/1250 [==============================] - 4s 3ms/step - loss: 0.7591 - accuracy: 0.7349 - val_loss: 0.9574 - val_accuracy: 0.6748\n",
            "Epoch 8/10\n",
            "1250/1250 [==============================] - 4s 3ms/step - loss: 0.6957 - accuracy: 0.7564 - val_loss: 0.9882 - val_accuracy: 0.6679\n",
            "Epoch 9/10\n",
            "1250/1250 [==============================] - 4s 3ms/step - loss: 0.6444 - accuracy: 0.7718 - val_loss: 1.0094 - val_accuracy: 0.6800\n",
            "Epoch 10/10\n",
            "1250/1250 [==============================] - 4s 3ms/step - loss: 0.6015 - accuracy: 0.7872 - val_loss: 0.9735 - val_accuracy: 0.6859\n",
            "313/313 - 1s - loss: 0.9784 - accuracy: 0.6823\n",
            "Test Data Loss : 0.9784022569656372, Test Data Accuracy : 0.6822999715805054\n"
          ],
          "name": "stdout"
        },
        {
          "output_type": "display_data",
          "data": {
            "image/png": "[encoded data removed]",
            "text/plain": [
              "<Figure size 432x288 with 1 Axes>"
            ]
          },
          "metadata": {
            "tags": [],
            "needs_background": "light"
          }
        }
      ]
    },
    {
      "cell_type": "markdown",
      "metadata": {
        "id": "rQgtH-faBiGW",
        "colab_type": "text"
      },
      "source": [
        "## Task 2 : Reqularization"
      ]
    },
    {
      "cell_type": "markdown",
      "metadata": {
        "id": "Fk7jZNgOZo96",
        "colab_type": "text"
      },
      "source": [
        "* Motivation: Investigate how different Regularization techniques affect the training behavior.\n",
        "\n",
        "* Dataset : Cifar10\n",
        "\n",
        "* Architecture : Best model from Task1's architecture\n",
        "\n",
        "* Regularization techniques:\n",
        " * L1, L2 regularizer\n",
        " * Dropouts\n",
        " * Adding noise\n",
        "\n",
        "* Comparision Criteria: Training Curves\n",
        " * Steps still convergence\n",
        " * Training accuracy untill convergence\n",
        " * Stability of training\n"
      ]
    },
    {
      "cell_type": "markdown",
      "metadata": {
        "id": "HCk4ei_phKg2",
        "colab_type": "text"
      },
      "source": [
        "## Task 3: Transfer Learning"
      ]
    },
    {
      "cell_type": "code",
      "metadata": {
        "id": "Fr94NiqF6-E2",
        "colab_type": "code",
        "colab": {}
      },
      "source": [
        ""
      ],
      "execution_count": 9,
      "outputs": []
    }
  ]
}